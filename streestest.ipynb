{
 "cells": [
  {
   "cell_type": "code",
   "execution_count": 1,
   "id": "0513a2ff-6391-470b-9f82-dc6f0bc06f5c",
   "metadata": {},
   "outputs": [],
   "source": [
    "from docarray import Document, DocumentArray\n",
    "from multiprocessing import Process, Queue\n",
    "import time\n",
    "import uuid"
   ]
  },
  {
   "cell_type": "code",
   "execution_count": 2,
   "id": "99eef189-0c8b-42b8-b914-16c8263c458f",
   "metadata": {},
   "outputs": [
    {
     "data": {
      "text/plain": [
       "'8f6d1082-0450-11ed-bede-894a4acd65d3'"
      ]
     },
     "execution_count": 2,
     "metadata": {},
     "output_type": "execute_result"
    }
   ],
   "source": [
    "str(uuid.uuid1())"
   ]
  },
  {
   "cell_type": "code",
   "execution_count": 3,
   "id": "538ab162-68f6-42c6-a28f-378d8b0879ac",
   "metadata": {},
   "outputs": [],
   "source": [
    "server_url = 'grpc://localhost:51005'"
   ]
  },
  {
   "cell_type": "code",
   "execution_count": 4,
   "id": "1a29c98a-aa8d-4e1e-ab62-211193b46476",
   "metadata": {},
   "outputs": [],
   "source": [
    "prompt = 'a realistic photo of cat doing stand up paddle'"
   ]
  },
  {
   "cell_type": "code",
   "execution_count": 5,
   "id": "fdac7800-9224-498e-8e90-c66c1f599ea4",
   "metadata": {},
   "outputs": [],
   "source": [
    "def post_request(queue):\n",
    "    \"\"\"Full dalle flow run\"\"\"\n",
    "    id_ = str(uuid.uuid1())\n",
    "    init_time= time.time()\n",
    "    \n",
    "    print(f'hello {id_} \\n')\n",
    "    \n",
    "    da = Document(text=prompt).post(server_url, parameters={'num_images': 2}).matches\n",
    "    fav_id = 0\n",
    "    fav = da[fav_id]\n",
    "    diffused = fav.post(f'{server_url}', parameters={'skip_rate': 0.6, 'num_images': 16}, target_executor='diffusion').matches\n",
    "    dfav_id = 3\n",
    "    fav = diffused[dfav_id]\n",
    "    fav = fav.post(f'{server_url}/upscale')\n",
    "    \n",
    "    print(f'byebye {id_} \\n time spent: {time.time()-init_time} \\n queue size: {q.qsize()}')\n",
    "    print(time.time()-init_time)\n",
    "    q.put(id_)"
   ]
  },
  {
   "cell_type": "code",
   "execution_count": 6,
   "id": "4c0c4de2-7faf-43b5-9f93-3e1d0d515994",
   "metadata": {},
   "outputs": [],
   "source": [
    "N = 8"
   ]
  },
  {
   "cell_type": "code",
   "execution_count": 7,
   "id": "70d0b740-58fb-42be-a5d1-623f53c8b086",
   "metadata": {},
   "outputs": [],
   "source": [
    "q = Queue()"
   ]
  },
  {
   "cell_type": "code",
   "execution_count": 8,
   "id": "8db2bde7-b0fb-4553-a9ad-508c45b308e6",
   "metadata": {},
   "outputs": [],
   "source": [
    "list_thread = [Process(target=post_request, args=(q,), daemon=True) for _ in range(N)]"
   ]
  },
  {
   "cell_type": "code",
   "execution_count": 9,
   "id": "73577b4f-bbc0-4630-8b0f-aa9705d466b5",
   "metadata": {
    "tags": []
   },
   "outputs": [
    {
     "name": "stdout",
     "output_type": "stream",
     "text": [
      "hello 8f6d1083-0450-11ed-bede-894a4acd65d3 \n",
      "\n",
      "hello 8f6d1083-0450-11ed-bede-894a4acd65d3 \n",
      "\n",
      "hello 8f6d1083-0450-11ed-bede-894a4acd65d3 \n",
      "\n",
      "hello 8f6d1083-0450-11ed-bede-894a4acd65d3 \n",
      "\n",
      "hello 8f6d1083-0450-11ed-bede-894a4acd65d3 \n",
      "\n",
      "hello 8f6d1083-0450-11ed-bede-894a4acd65d3 \n",
      "\n",
      "hello 8f6d1083-0450-11ed-bede-894a4acd65d3 \n",
      "hello 8f6d1083-0450-11ed-bede-894a4acd65d3 \n",
      "\n",
      "\n"
     ]
    },
    {
     "data": {
      "text/html": [
       "<pre style=\"white-space:pre;overflow-x:auto;line-height:normal;font-family:Menlo,'DejaVu Sans Mono',consolas,'Courier New',monospace\">\n",
       "</pre>\n"
      ],
      "text/plain": [
       "\n"
      ]
     },
     "metadata": {},
     "output_type": "display_data"
    },
    {
     "data": {
      "text/html": [
       "<pre style=\"white-space:pre;overflow-x:auto;line-height:normal;font-family:Menlo,'DejaVu Sans Mono',consolas,'Courier New',monospace\">\n",
       "</pre>\n"
      ],
      "text/plain": [
       "\n"
      ]
     },
     "metadata": {},
     "output_type": "display_data"
    },
    {
     "data": {
      "text/html": [
       "<pre style=\"white-space:pre;overflow-x:auto;line-height:normal;font-family:Menlo,'DejaVu Sans Mono',consolas,'Courier New',monospace\">\n",
       "</pre>\n"
      ],
      "text/plain": [
       "\n"
      ]
     },
     "metadata": {},
     "output_type": "display_data"
    },
    {
     "data": {
      "text/html": [
       "<pre style=\"white-space:pre;overflow-x:auto;line-height:normal;font-family:Menlo,'DejaVu Sans Mono',consolas,'Courier New',monospace\">\n",
       "</pre>\n"
      ],
      "text/plain": [
       "\n"
      ]
     },
     "metadata": {},
     "output_type": "display_data"
    },
    {
     "data": {
      "text/html": [
       "<pre style=\"white-space:pre;overflow-x:auto;line-height:normal;font-family:Menlo,'DejaVu Sans Mono',consolas,'Courier New',monospace\">\n",
       "</pre>\n"
      ],
      "text/plain": [
       "\n"
      ]
     },
     "metadata": {},
     "output_type": "display_data"
    },
    {
     "data": {
      "text/html": [
       "<pre style=\"white-space:pre;overflow-x:auto;line-height:normal;font-family:Menlo,'DejaVu Sans Mono',consolas,'Courier New',monospace\">\n",
       "</pre>\n"
      ],
      "text/plain": [
       "\n"
      ]
     },
     "metadata": {},
     "output_type": "display_data"
    },
    {
     "data": {
      "text/html": [
       "<pre style=\"white-space:pre;overflow-x:auto;line-height:normal;font-family:Menlo,'DejaVu Sans Mono',consolas,'Courier New',monospace\">\n",
       "</pre>\n"
      ],
      "text/plain": [
       "\n"
      ]
     },
     "metadata": {},
     "output_type": "display_data"
    },
    {
     "data": {
      "text/html": [
       "<pre style=\"white-space:pre;overflow-x:auto;line-height:normal;font-family:Menlo,'DejaVu Sans Mono',consolas,'Courier New',monospace\">\n",
       "</pre>\n"
      ],
      "text/plain": [
       "\n"
      ]
     },
     "metadata": {},
     "output_type": "display_data"
    },
    {
     "data": {
      "text/html": [
       "<pre style=\"white-space:pre;overflow-x:auto;line-height:normal;font-family:Menlo,'DejaVu Sans Mono',consolas,'Courier New',monospace\">\n",
       "</pre>\n"
      ],
      "text/plain": [
       "\n"
      ]
     },
     "metadata": {},
     "output_type": "display_data"
    },
    {
     "data": {
      "text/html": [
       "<pre style=\"white-space:pre;overflow-x:auto;line-height:normal;font-family:Menlo,'DejaVu Sans Mono',consolas,'Courier New',monospace\">\n",
       "</pre>\n"
      ],
      "text/plain": [
       "\n"
      ]
     },
     "metadata": {},
     "output_type": "display_data"
    },
    {
     "data": {
      "text/html": [
       "<pre style=\"white-space:pre;overflow-x:auto;line-height:normal;font-family:Menlo,'DejaVu Sans Mono',consolas,'Courier New',monospace\">\n",
       "</pre>\n"
      ],
      "text/plain": [
       "\n"
      ]
     },
     "metadata": {},
     "output_type": "display_data"
    },
    {
     "data": {
      "text/html": [
       "<pre style=\"white-space:pre;overflow-x:auto;line-height:normal;font-family:Menlo,'DejaVu Sans Mono',consolas,'Courier New',monospace\">\n",
       "</pre>\n"
      ],
      "text/plain": [
       "\n"
      ]
     },
     "metadata": {},
     "output_type": "display_data"
    },
    {
     "data": {
      "text/html": [
       "<pre style=\"white-space:pre;overflow-x:auto;line-height:normal;font-family:Menlo,'DejaVu Sans Mono',consolas,'Courier New',monospace\">\n",
       "</pre>\n"
      ],
      "text/plain": [
       "\n"
      ]
     },
     "metadata": {},
     "output_type": "display_data"
    },
    {
     "data": {
      "text/html": [
       "<pre style=\"white-space:pre;overflow-x:auto;line-height:normal;font-family:Menlo,'DejaVu Sans Mono',consolas,'Courier New',monospace\">\n",
       "</pre>\n"
      ],
      "text/plain": [
       "\n"
      ]
     },
     "metadata": {},
     "output_type": "display_data"
    },
    {
     "data": {
      "text/html": [
       "<pre style=\"white-space:pre;overflow-x:auto;line-height:normal;font-family:Menlo,'DejaVu Sans Mono',consolas,'Courier New',monospace\">\n",
       "</pre>\n"
      ],
      "text/plain": [
       "\n"
      ]
     },
     "metadata": {},
     "output_type": "display_data"
    },
    {
     "name": "stdout",
     "output_type": "stream",
     "text": [
      "byebye 8f6d1083-0450-11ed-bede-894a4acd65d3 \n",
      " time spent: 500.3657491207123 \n",
      " queue size: 0\n",
      "500.367201089859\n"
     ]
    },
    {
     "data": {
      "text/html": [
       "<pre style=\"white-space:pre;overflow-x:auto;line-height:normal;font-family:Menlo,'DejaVu Sans Mono',consolas,'Courier New',monospace\">\n",
       "</pre>\n"
      ],
      "text/plain": [
       "\n"
      ]
     },
     "metadata": {},
     "output_type": "display_data"
    },
    {
     "data": {
      "text/html": [
       "<pre style=\"white-space:pre;overflow-x:auto;line-height:normal;font-family:Menlo,'DejaVu Sans Mono',consolas,'Courier New',monospace\">\n",
       "</pre>\n"
      ],
      "text/plain": [
       "\n"
      ]
     },
     "metadata": {},
     "output_type": "display_data"
    },
    {
     "data": {
      "text/html": [
       "<pre style=\"white-space:pre;overflow-x:auto;line-height:normal;font-family:Menlo,'DejaVu Sans Mono',consolas,'Courier New',monospace\">\n",
       "</pre>\n"
      ],
      "text/plain": [
       "\n"
      ]
     },
     "metadata": {},
     "output_type": "display_data"
    },
    {
     "name": "stdout",
     "output_type": "stream",
     "text": [
      "byebye 8f6d1083-0450-11ed-bede-894a4acd65d3 \n",
      " time spent: 598.6258325576782 \n",
      " queue size: 1\n",
      "598.6271481513977\n"
     ]
    },
    {
     "data": {
      "text/html": [
       "<pre style=\"white-space:pre;overflow-x:auto;line-height:normal;font-family:Menlo,'DejaVu Sans Mono',consolas,'Courier New',monospace\">\n",
       "</pre>\n"
      ],
      "text/plain": [
       "\n"
      ]
     },
     "metadata": {},
     "output_type": "display_data"
    },
    {
     "name": "stdout",
     "output_type": "stream",
     "text": [
      "byebye 8f6d1083-0450-11ed-bede-894a4acd65d3 \n",
      " time spent: 699.093953371048 \n",
      " queue size: 2\n",
      "699.0952425003052\n"
     ]
    },
    {
     "data": {
      "text/html": [
       "<pre style=\"white-space:pre;overflow-x:auto;line-height:normal;font-family:Menlo,'DejaVu Sans Mono',consolas,'Courier New',monospace\">\n",
       "</pre>\n"
      ],
      "text/plain": [
       "\n"
      ]
     },
     "metadata": {},
     "output_type": "display_data"
    },
    {
     "name": "stdout",
     "output_type": "stream",
     "text": [
      "byebye 8f6d1083-0450-11ed-bede-894a4acd65d3 \n",
      " time spent: 774.6022536754608 \n",
      " queue size: 3\n",
      "774.6038980484009\n"
     ]
    },
    {
     "data": {
      "text/html": [
       "<pre style=\"white-space:pre;overflow-x:auto;line-height:normal;font-family:Menlo,'DejaVu Sans Mono',consolas,'Courier New',monospace\">\n",
       "</pre>\n"
      ],
      "text/plain": [
       "\n"
      ]
     },
     "metadata": {},
     "output_type": "display_data"
    },
    {
     "name": "stdout",
     "output_type": "stream",
     "text": [
      "byebye 8f6d1083-0450-11ed-bede-894a4acd65d3 \n",
      " time spent: 857.314795255661 \n",
      " queue size: 4\n",
      "857.3158218860626\n"
     ]
    },
    {
     "data": {
      "text/html": [
       "<pre style=\"white-space:pre;overflow-x:auto;line-height:normal;font-family:Menlo,'DejaVu Sans Mono',consolas,'Courier New',monospace\">\n",
       "</pre>\n"
      ],
      "text/plain": [
       "\n"
      ]
     },
     "metadata": {},
     "output_type": "display_data"
    },
    {
     "name": "stdout",
     "output_type": "stream",
     "text": [
      "byebye 8f6d1083-0450-11ed-bede-894a4acd65d3 \n",
      " time spent: 942.8946332931519 \n",
      " queue size: 5\n",
      "942.8958253860474\n"
     ]
    },
    {
     "data": {
      "text/html": [
       "<pre style=\"white-space:pre;overflow-x:auto;line-height:normal;font-family:Menlo,'DejaVu Sans Mono',consolas,'Courier New',monospace\">\n",
       "</pre>\n"
      ],
      "text/plain": [
       "\n"
      ]
     },
     "metadata": {},
     "output_type": "display_data"
    },
    {
     "name": "stdout",
     "output_type": "stream",
     "text": [
      "byebye 8f6d1083-0450-11ed-bede-894a4acd65d3 \n",
      " time spent: 1022.4870834350586 \n",
      " queue size: 6\n",
      "1022.4884006977081\n"
     ]
    },
    {
     "data": {
      "text/html": [
       "<pre style=\"white-space:pre;overflow-x:auto;line-height:normal;font-family:Menlo,'DejaVu Sans Mono',consolas,'Courier New',monospace\">\n",
       "</pre>\n"
      ],
      "text/plain": [
       "\n"
      ]
     },
     "metadata": {},
     "output_type": "display_data"
    },
    {
     "name": "stdout",
     "output_type": "stream",
     "text": [
      "byebye 8f6d1083-0450-11ed-bede-894a4acd65d3 \n",
      " time spent: 1104.4598140716553 \n",
      " queue size: 7\n",
      "1104.4610285758972\n",
      "CPU times: user 91.5 ms, sys: 76 ms, total: 168 ms\n",
      "Wall time: 18min 24s\n"
     ]
    }
   ],
   "source": [
    "%%time\n",
    "for t in list_thread:\n",
    "    t.start()\n",
    "for t in list_thread:\n",
    "    t.join()"
   ]
  },
  {
   "cell_type": "code",
   "execution_count": 10,
   "id": "89a830a8-7d5e-4c46-a9ca-f2ab31d6c1c5",
   "metadata": {},
   "outputs": [
    {
     "name": "stdout",
     "output_type": "stream",
     "text": [
      "0 failed\n"
     ]
    }
   ],
   "source": [
    "print(f'{N - q.qsize() } failed')"
   ]
  }
 ],
 "metadata": {
  "kernelspec": {
   "display_name": "Python 3 (ipykernel)",
   "language": "python",
   "name": "python3"
  },
  "language_info": {
   "codemirror_mode": {
    "name": "ipython",
    "version": 3
   },
   "file_extension": ".py",
   "mimetype": "text/x-python",
   "name": "python",
   "nbconvert_exporter": "python",
   "pygments_lexer": "ipython3",
   "version": "3.9.10"
  }
 },
 "nbformat": 4,
 "nbformat_minor": 5
}
