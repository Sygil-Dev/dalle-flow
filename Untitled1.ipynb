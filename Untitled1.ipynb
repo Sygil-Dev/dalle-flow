{
 "cells": [
  {
   "cell_type": "code",
   "execution_count": 8,
   "id": "b967a69a-d4d1-4ede-9a48-db79a5f289b0",
   "metadata": {},
   "outputs": [],
   "source": [
    "from jina import Client, Flow, Executor, requests\n",
    "from docarray import Document, DocumentArray"
   ]
  },
  {
   "cell_type": "code",
   "execution_count": 4,
   "id": "67191e0b-1cf4-4360-b8f1-fae682a47ea9",
   "metadata": {},
   "outputs": [],
   "source": [
    "def get_doc():\n",
    "    doc = Document(uri='https://raw.githubusercontent.com/fastai/fastai/master/nbs/images/puppy.jpg')\n",
    "    return doc.load_uri_to_blob()"
   ]
  },
  {
   "cell_type": "code",
   "execution_count": 6,
   "id": "e11484ff-a553-4841-b10d-d34f17ae02d4",
   "metadata": {},
   "outputs": [
    {
     "name": "stdout",
     "output_type": "stream",
     "text": [
      "CPU times: user 60.1 ms, sys: 25.8 ms, total: 85.9 ms\n",
      "Wall time: 2.38 s\n"
     ]
    }
   ],
   "source": [
    "%%time\n",
    "da = DocumentArray([get_doc() for _ in range(10)])"
   ]
  },
  {
   "cell_type": "code",
   "execution_count": 9,
   "id": "f5f7855e-be0f-4657-af4e-9be2d9a2f639",
   "metadata": {},
   "outputs": [],
   "source": [
    "class MyExec(Executor):\n",
    "    \n",
    "    @requests\n",
    "    def foo(self,docs, **kwargs):\n",
    "        pass"
   ]
  },
  {
   "cell_type": "code",
   "execution_count": 12,
   "id": "30aa5f6c-8f3f-4082-b820-1bf0885047ef",
   "metadata": {},
   "outputs": [],
   "source": [
    "f = Flow().add(uses=MyExec) "
   ]
  },
  {
   "cell_type": "code",
   "execution_count": 13,
   "id": "de95132b-4d3b-4a8b-ae40-b8907b932413",
   "metadata": {},
   "outputs": [
    {
     "data": {
      "application/vnd.jupyter.widget-view+json": {
       "model_id": "",
       "version_major": 2,
       "version_minor": 0
      },
      "text/plain": [
       "Output()"
      ]
     },
     "metadata": {},
     "output_type": "display_data"
    },
    {
     "data": {
      "text/html": [
       "<pre style=\"white-space:pre;overflow-x:auto;line-height:normal;font-family:Menlo,'DejaVu Sans Mono',consolas,'Courier New',monospace\"><span style=\"color: #808000; text-decoration-color: #808000; font-weight: bold\">DeprecationWarning: Kernel._parent_header is deprecated in ipykernel 6. Use .get_parent()</span> \n",
       "<span style=\"color: #000000; text-decoration-color: #000000; font-weight: bold\">(raised from /home/sami/.pyenv/versions/3.9.10/lib/python3.9/site-packages/ipywidgets/widgets</span>\n",
       "<span style=\"color: #000000; text-decoration-color: #000000; font-weight: bold\">/widget_output.py:111)</span>\n",
       "</pre>\n"
      ],
      "text/plain": [
       "\u001b[1;33mDeprecationWarning: Kernel._parent_header is deprecated in ipykernel 6. Use .get_parent()\u001b[0m \n",
       "\u001b[1;30m(raised from /home/sami/.pyenv/versions/3.9.10/lib/python3.9/site-packages/ipywidgets/widgets\u001b[0m\n",
       "\u001b[1;30m/widget_output.py:111)\u001b[0m\n"
      ]
     },
     "metadata": {},
     "output_type": "display_data"
    },
    {
     "data": {
      "text/html": [
       "<pre style=\"white-space:pre;overflow-x:auto;line-height:normal;font-family:Menlo,'DejaVu Sans Mono',consolas,'Courier New',monospace\"><span style=\"color: #808000; text-decoration-color: #808000; font-weight: bold\">DeprecationWarning: Kernel._parent_header is deprecated in ipykernel 6. Use .get_parent()</span> \n",
       "<span style=\"color: #000000; text-decoration-color: #000000; font-weight: bold\">(raised from /home/sami/.pyenv/versions/3.9.10/lib/python3.9/site-packages/ipywidgets/widgets</span>\n",
       "<span style=\"color: #000000; text-decoration-color: #000000; font-weight: bold\">/widget_output.py:112)</span>\n",
       "</pre>\n"
      ],
      "text/plain": [
       "\u001b[1;33mDeprecationWarning: Kernel._parent_header is deprecated in ipykernel 6. Use .get_parent()\u001b[0m \n",
       "\u001b[1;30m(raised from /home/sami/.pyenv/versions/3.9.10/lib/python3.9/site-packages/ipywidgets/widgets\u001b[0m\n",
       "\u001b[1;30m/widget_output.py:112)\u001b[0m\n"
      ]
     },
     "metadata": {},
     "output_type": "display_data"
    },
    {
     "data": {
      "text/html": [
       "<pre style=\"white-space:pre;overflow-x:auto;line-height:normal;font-family:Menlo,'DejaVu Sans Mono',consolas,'Courier New',monospace\"><span style=\"color: #808000; text-decoration-color: #808000; font-weight: bold\">DeprecationWarning: Kernel._parent_header is deprecated in ipykernel 6. Use .get_parent()</span> \n",
       "<span style=\"color: #000000; text-decoration-color: #000000; font-weight: bold\">(raised from /home/sami/.pyenv/versions/3.9.10/lib/python3.9/site-packages/ipywidgets/widgets</span>\n",
       "<span style=\"color: #000000; text-decoration-color: #000000; font-weight: bold\">/widget_output.py:111)</span>\n",
       "</pre>\n"
      ],
      "text/plain": [
       "\u001b[1;33mDeprecationWarning: Kernel._parent_header is deprecated in ipykernel 6. Use .get_parent()\u001b[0m \n",
       "\u001b[1;30m(raised from /home/sami/.pyenv/versions/3.9.10/lib/python3.9/site-packages/ipywidgets/widgets\u001b[0m\n",
       "\u001b[1;30m/widget_output.py:111)\u001b[0m\n"
      ]
     },
     "metadata": {},
     "output_type": "display_data"
    },
    {
     "data": {
      "text/html": [
       "<pre style=\"white-space:pre;overflow-x:auto;line-height:normal;font-family:Menlo,'DejaVu Sans Mono',consolas,'Courier New',monospace\"><span style=\"color: #808000; text-decoration-color: #808000; font-weight: bold\">DeprecationWarning: Kernel._parent_header is deprecated in ipykernel 6. Use .get_parent()</span> \n",
       "<span style=\"color: #000000; text-decoration-color: #000000; font-weight: bold\">(raised from /home/sami/.pyenv/versions/3.9.10/lib/python3.9/site-packages/ipywidgets/widgets</span>\n",
       "<span style=\"color: #000000; text-decoration-color: #000000; font-weight: bold\">/widget_output.py:112)</span>\n",
       "</pre>\n"
      ],
      "text/plain": [
       "\u001b[1;33mDeprecationWarning: Kernel._parent_header is deprecated in ipykernel 6. Use .get_parent()\u001b[0m \n",
       "\u001b[1;30m(raised from /home/sami/.pyenv/versions/3.9.10/lib/python3.9/site-packages/ipywidgets/widgets\u001b[0m\n",
       "\u001b[1;30m/widget_output.py:112)\u001b[0m\n"
      ]
     },
     "metadata": {},
     "output_type": "display_data"
    },
    {
     "data": {
      "text/html": [
       "<pre style=\"white-space:pre;overflow-x:auto;line-height:normal;font-family:Menlo,'DejaVu Sans Mono',consolas,'Courier New',monospace\"><span style=\"color: #808000; text-decoration-color: #808000; font-weight: bold\">DeprecationWarning: Kernel._parent_header is deprecated in ipykernel 6. Use .get_parent()</span> \n",
       "<span style=\"color: #000000; text-decoration-color: #000000; font-weight: bold\">(raised from /home/sami/.pyenv/versions/3.9.10/lib/python3.9/site-packages/ipywidgets/widgets</span>\n",
       "<span style=\"color: #000000; text-decoration-color: #000000; font-weight: bold\">/widget_output.py:111)</span>\n",
       "</pre>\n"
      ],
      "text/plain": [
       "\u001b[1;33mDeprecationWarning: Kernel._parent_header is deprecated in ipykernel 6. Use .get_parent()\u001b[0m \n",
       "\u001b[1;30m(raised from /home/sami/.pyenv/versions/3.9.10/lib/python3.9/site-packages/ipywidgets/widgets\u001b[0m\n",
       "\u001b[1;30m/widget_output.py:111)\u001b[0m\n"
      ]
     },
     "metadata": {},
     "output_type": "display_data"
    },
    {
     "data": {
      "text/html": [
       "<pre style=\"white-space:pre;overflow-x:auto;line-height:normal;font-family:Menlo,'DejaVu Sans Mono',consolas,'Courier New',monospace\"><span style=\"color: #808000; text-decoration-color: #808000; font-weight: bold\">DeprecationWarning: Kernel._parent_header is deprecated in ipykernel 6. Use .get_parent()</span> \n",
       "<span style=\"color: #000000; text-decoration-color: #000000; font-weight: bold\">(raised from /home/sami/.pyenv/versions/3.9.10/lib/python3.9/site-packages/ipywidgets/widgets</span>\n",
       "<span style=\"color: #000000; text-decoration-color: #000000; font-weight: bold\">/widget_output.py:112)</span>\n",
       "</pre>\n"
      ],
      "text/plain": [
       "\u001b[1;33mDeprecationWarning: Kernel._parent_header is deprecated in ipykernel 6. Use .get_parent()\u001b[0m \n",
       "\u001b[1;30m(raised from /home/sami/.pyenv/versions/3.9.10/lib/python3.9/site-packages/ipywidgets/widgets\u001b[0m\n",
       "\u001b[1;30m/widget_output.py:112)\u001b[0m\n"
      ]
     },
     "metadata": {},
     "output_type": "display_data"
    },
    {
     "data": {
      "text/html": [
       "<pre style=\"white-space:pre;overflow-x:auto;line-height:normal;font-family:Menlo,'DejaVu Sans Mono',consolas,'Courier New',monospace\"><span style=\"color: #808000; text-decoration-color: #808000; font-weight: bold\">DeprecationWarning: Kernel._parent_header is deprecated in ipykernel 6. Use .get_parent()</span> \n",
       "<span style=\"color: #000000; text-decoration-color: #000000; font-weight: bold\">(raised from /home/sami/.pyenv/versions/3.9.10/lib/python3.9/site-packages/ipywidgets/widgets</span>\n",
       "<span style=\"color: #000000; text-decoration-color: #000000; font-weight: bold\">/widget_output.py:111)</span>\n",
       "</pre>\n"
      ],
      "text/plain": [
       "\u001b[1;33mDeprecationWarning: Kernel._parent_header is deprecated in ipykernel 6. Use .get_parent()\u001b[0m \n",
       "\u001b[1;30m(raised from /home/sami/.pyenv/versions/3.9.10/lib/python3.9/site-packages/ipywidgets/widgets\u001b[0m\n",
       "\u001b[1;30m/widget_output.py:111)\u001b[0m\n"
      ]
     },
     "metadata": {},
     "output_type": "display_data"
    },
    {
     "data": {
      "text/html": [
       "<pre style=\"white-space:pre;overflow-x:auto;line-height:normal;font-family:Menlo,'DejaVu Sans Mono',consolas,'Courier New',monospace\"><span style=\"color: #808000; text-decoration-color: #808000; font-weight: bold\">DeprecationWarning: Kernel._parent_header is deprecated in ipykernel 6. Use .get_parent()</span> \n",
       "<span style=\"color: #000000; text-decoration-color: #000000; font-weight: bold\">(raised from /home/sami/.pyenv/versions/3.9.10/lib/python3.9/site-packages/ipywidgets/widgets</span>\n",
       "<span style=\"color: #000000; text-decoration-color: #000000; font-weight: bold\">/widget_output.py:112)</span>\n",
       "</pre>\n"
      ],
      "text/plain": [
       "\u001b[1;33mDeprecationWarning: Kernel._parent_header is deprecated in ipykernel 6. Use .get_parent()\u001b[0m \n",
       "\u001b[1;30m(raised from /home/sami/.pyenv/versions/3.9.10/lib/python3.9/site-packages/ipywidgets/widgets\u001b[0m\n",
       "\u001b[1;30m/widget_output.py:112)\u001b[0m\n"
      ]
     },
     "metadata": {},
     "output_type": "display_data"
    },
    {
     "data": {
      "text/html": [
       "<pre style=\"white-space:pre;overflow-x:auto;line-height:normal;font-family:Menlo,'DejaVu Sans Mono',consolas,'Courier New',monospace\"><span style=\"color: #808000; text-decoration-color: #808000; font-weight: bold\">DeprecationWarning: Kernel._parent_header is deprecated in ipykernel 6. Use .get_parent()</span> \n",
       "<span style=\"color: #000000; text-decoration-color: #000000; font-weight: bold\">(raised from /home/sami/.pyenv/versions/3.9.10/lib/python3.9/site-packages/ipywidgets/widgets</span>\n",
       "<span style=\"color: #000000; text-decoration-color: #000000; font-weight: bold\">/widget_output.py:111)</span>\n",
       "</pre>\n"
      ],
      "text/plain": [
       "\u001b[1;33mDeprecationWarning: Kernel._parent_header is deprecated in ipykernel 6. Use .get_parent()\u001b[0m \n",
       "\u001b[1;30m(raised from /home/sami/.pyenv/versions/3.9.10/lib/python3.9/site-packages/ipywidgets/widgets\u001b[0m\n",
       "\u001b[1;30m/widget_output.py:111)\u001b[0m\n"
      ]
     },
     "metadata": {},
     "output_type": "display_data"
    },
    {
     "data": {
      "text/html": [
       "<pre style=\"white-space:pre;overflow-x:auto;line-height:normal;font-family:Menlo,'DejaVu Sans Mono',consolas,'Courier New',monospace\"><span style=\"color: #808000; text-decoration-color: #808000; font-weight: bold\">DeprecationWarning: Kernel._parent_header is deprecated in ipykernel 6. Use .get_parent()</span> \n",
       "<span style=\"color: #000000; text-decoration-color: #000000; font-weight: bold\">(raised from /home/sami/.pyenv/versions/3.9.10/lib/python3.9/site-packages/ipywidgets/widgets</span>\n",
       "<span style=\"color: #000000; text-decoration-color: #000000; font-weight: bold\">/widget_output.py:112)</span>\n",
       "</pre>\n"
      ],
      "text/plain": [
       "\u001b[1;33mDeprecationWarning: Kernel._parent_header is deprecated in ipykernel 6. Use .get_parent()\u001b[0m \n",
       "\u001b[1;30m(raised from /home/sami/.pyenv/versions/3.9.10/lib/python3.9/site-packages/ipywidgets/widgets\u001b[0m\n",
       "\u001b[1;30m/widget_output.py:112)\u001b[0m\n"
      ]
     },
     "metadata": {},
     "output_type": "display_data"
    },
    {
     "data": {
      "text/html": [
       "<pre style=\"white-space:pre;overflow-x:auto;line-height:normal;font-family:Menlo,'DejaVu Sans Mono',consolas,'Courier New',monospace\"><span style=\"color: #808000; text-decoration-color: #808000; font-weight: bold\">DeprecationWarning: Kernel._parent_header is deprecated in ipykernel 6. Use .get_parent()</span> \n",
       "<span style=\"color: #000000; text-decoration-color: #000000; font-weight: bold\">(raised from /home/sami/.pyenv/versions/3.9.10/lib/python3.9/site-packages/ipywidgets/widgets</span>\n",
       "<span style=\"color: #000000; text-decoration-color: #000000; font-weight: bold\">/widget_output.py:111)</span>\n",
       "</pre>\n"
      ],
      "text/plain": [
       "\u001b[1;33mDeprecationWarning: Kernel._parent_header is deprecated in ipykernel 6. Use .get_parent()\u001b[0m \n",
       "\u001b[1;30m(raised from /home/sami/.pyenv/versions/3.9.10/lib/python3.9/site-packages/ipywidgets/widgets\u001b[0m\n",
       "\u001b[1;30m/widget_output.py:111)\u001b[0m\n"
      ]
     },
     "metadata": {},
     "output_type": "display_data"
    },
    {
     "data": {
      "text/html": [
       "<pre style=\"white-space:pre;overflow-x:auto;line-height:normal;font-family:Menlo,'DejaVu Sans Mono',consolas,'Courier New',monospace\"><span style=\"color: #808000; text-decoration-color: #808000; font-weight: bold\">DeprecationWarning: Kernel._parent_header is deprecated in ipykernel 6. Use .get_parent()</span> \n",
       "<span style=\"color: #000000; text-decoration-color: #000000; font-weight: bold\">(raised from /home/sami/.pyenv/versions/3.9.10/lib/python3.9/site-packages/ipywidgets/widgets</span>\n",
       "<span style=\"color: #000000; text-decoration-color: #000000; font-weight: bold\">/widget_output.py:112)</span>\n",
       "</pre>\n"
      ],
      "text/plain": [
       "\u001b[1;33mDeprecationWarning: Kernel._parent_header is deprecated in ipykernel 6. Use .get_parent()\u001b[0m \n",
       "\u001b[1;30m(raised from /home/sami/.pyenv/versions/3.9.10/lib/python3.9/site-packages/ipywidgets/widgets\u001b[0m\n",
       "\u001b[1;30m/widget_output.py:112)\u001b[0m\n"
      ]
     },
     "metadata": {},
     "output_type": "display_data"
    },
    {
     "data": {
      "text/html": [
       "<pre style=\"white-space:pre;overflow-x:auto;line-height:normal;font-family:Menlo,'DejaVu Sans Mono',consolas,'Courier New',monospace\"><span style=\"color: #808000; text-decoration-color: #808000; font-weight: bold\">DeprecationWarning: Kernel._parent_header is deprecated in ipykernel 6. Use .get_parent()</span> \n",
       "<span style=\"color: #000000; text-decoration-color: #000000; font-weight: bold\">(raised from /home/sami/.pyenv/versions/3.9.10/lib/python3.9/site-packages/ipywidgets/widgets</span>\n",
       "<span style=\"color: #000000; text-decoration-color: #000000; font-weight: bold\">/widget_output.py:111)</span>\n",
       "</pre>\n"
      ],
      "text/plain": [
       "\u001b[1;33mDeprecationWarning: Kernel._parent_header is deprecated in ipykernel 6. Use .get_parent()\u001b[0m \n",
       "\u001b[1;30m(raised from /home/sami/.pyenv/versions/3.9.10/lib/python3.9/site-packages/ipywidgets/widgets\u001b[0m\n",
       "\u001b[1;30m/widget_output.py:111)\u001b[0m\n"
      ]
     },
     "metadata": {},
     "output_type": "display_data"
    },
    {
     "data": {
      "text/html": [
       "<pre style=\"white-space:pre;overflow-x:auto;line-height:normal;font-family:Menlo,'DejaVu Sans Mono',consolas,'Courier New',monospace\"><span style=\"color: #808000; text-decoration-color: #808000; font-weight: bold\">DeprecationWarning: Kernel._parent_header is deprecated in ipykernel 6. Use .get_parent()</span> \n",
       "<span style=\"color: #000000; text-decoration-color: #000000; font-weight: bold\">(raised from /home/sami/.pyenv/versions/3.9.10/lib/python3.9/site-packages/ipywidgets/widgets</span>\n",
       "<span style=\"color: #000000; text-decoration-color: #000000; font-weight: bold\">/widget_output.py:112)</span>\n",
       "</pre>\n"
      ],
      "text/plain": [
       "\u001b[1;33mDeprecationWarning: Kernel._parent_header is deprecated in ipykernel 6. Use .get_parent()\u001b[0m \n",
       "\u001b[1;30m(raised from /home/sami/.pyenv/versions/3.9.10/lib/python3.9/site-packages/ipywidgets/widgets\u001b[0m\n",
       "\u001b[1;30m/widget_output.py:112)\u001b[0m\n"
      ]
     },
     "metadata": {},
     "output_type": "display_data"
    },
    {
     "data": {
      "text/html": [
       "<pre style=\"white-space:pre;overflow-x:auto;line-height:normal;font-family:Menlo,'DejaVu Sans Mono',consolas,'Courier New',monospace\"><span style=\"color: #808000; text-decoration-color: #808000; font-weight: bold\">DeprecationWarning: Kernel._parent_header is deprecated in ipykernel 6. Use .get_parent()</span> \n",
       "<span style=\"color: #000000; text-decoration-color: #000000; font-weight: bold\">(raised from /home/sami/.pyenv/versions/3.9.10/lib/python3.9/site-packages/ipywidgets/widgets</span>\n",
       "<span style=\"color: #000000; text-decoration-color: #000000; font-weight: bold\">/widget_output.py:111)</span>\n",
       "</pre>\n"
      ],
      "text/plain": [
       "\u001b[1;33mDeprecationWarning: Kernel._parent_header is deprecated in ipykernel 6. Use .get_parent()\u001b[0m \n",
       "\u001b[1;30m(raised from /home/sami/.pyenv/versions/3.9.10/lib/python3.9/site-packages/ipywidgets/widgets\u001b[0m\n",
       "\u001b[1;30m/widget_output.py:111)\u001b[0m\n"
      ]
     },
     "metadata": {},
     "output_type": "display_data"
    },
    {
     "data": {
      "text/html": [
       "<pre style=\"white-space:pre;overflow-x:auto;line-height:normal;font-family:Menlo,'DejaVu Sans Mono',consolas,'Courier New',monospace\"><span style=\"color: #808000; text-decoration-color: #808000; font-weight: bold\">DeprecationWarning: Kernel._parent_header is deprecated in ipykernel 6. Use .get_parent()</span> \n",
       "<span style=\"color: #000000; text-decoration-color: #000000; font-weight: bold\">(raised from /home/sami/.pyenv/versions/3.9.10/lib/python3.9/site-packages/ipywidgets/widgets</span>\n",
       "<span style=\"color: #000000; text-decoration-color: #000000; font-weight: bold\">/widget_output.py:112)</span>\n",
       "</pre>\n"
      ],
      "text/plain": [
       "\u001b[1;33mDeprecationWarning: Kernel._parent_header is deprecated in ipykernel 6. Use .get_parent()\u001b[0m \n",
       "\u001b[1;30m(raised from /home/sami/.pyenv/versions/3.9.10/lib/python3.9/site-packages/ipywidgets/widgets\u001b[0m\n",
       "\u001b[1;30m/widget_output.py:112)\u001b[0m\n"
      ]
     },
     "metadata": {},
     "output_type": "display_data"
    },
    {
     "data": {
      "text/html": [
       "<pre style=\"white-space:pre;overflow-x:auto;line-height:normal;font-family:Menlo,'DejaVu Sans Mono',consolas,'Courier New',monospace\"><span style=\"color: #808000; text-decoration-color: #808000; font-weight: bold\">DeprecationWarning: Kernel._parent_header is deprecated in ipykernel 6. Use .get_parent()</span> \n",
       "<span style=\"color: #000000; text-decoration-color: #000000; font-weight: bold\">(raised from /home/sami/.pyenv/versions/3.9.10/lib/python3.9/site-packages/ipywidgets/widgets</span>\n",
       "<span style=\"color: #000000; text-decoration-color: #000000; font-weight: bold\">/widget_output.py:111)</span>\n",
       "</pre>\n"
      ],
      "text/plain": [
       "\u001b[1;33mDeprecationWarning: Kernel._parent_header is deprecated in ipykernel 6. Use .get_parent()\u001b[0m \n",
       "\u001b[1;30m(raised from /home/sami/.pyenv/versions/3.9.10/lib/python3.9/site-packages/ipywidgets/widgets\u001b[0m\n",
       "\u001b[1;30m/widget_output.py:111)\u001b[0m\n"
      ]
     },
     "metadata": {},
     "output_type": "display_data"
    },
    {
     "data": {
      "text/html": [
       "<pre style=\"white-space:pre;overflow-x:auto;line-height:normal;font-family:Menlo,'DejaVu Sans Mono',consolas,'Courier New',monospace\"><span style=\"color: #808000; text-decoration-color: #808000; font-weight: bold\">DeprecationWarning: Kernel._parent_header is deprecated in ipykernel 6. Use .get_parent()</span> \n",
       "<span style=\"color: #000000; text-decoration-color: #000000; font-weight: bold\">(raised from /home/sami/.pyenv/versions/3.9.10/lib/python3.9/site-packages/ipywidgets/widgets</span>\n",
       "<span style=\"color: #000000; text-decoration-color: #000000; font-weight: bold\">/widget_output.py:112)</span>\n",
       "</pre>\n"
      ],
      "text/plain": [
       "\u001b[1;33mDeprecationWarning: Kernel._parent_header is deprecated in ipykernel 6. Use .get_parent()\u001b[0m \n",
       "\u001b[1;30m(raised from /home/sami/.pyenv/versions/3.9.10/lib/python3.9/site-packages/ipywidgets/widgets\u001b[0m\n",
       "\u001b[1;30m/widget_output.py:112)\u001b[0m\n"
      ]
     },
     "metadata": {},
     "output_type": "display_data"
    },
    {
     "data": {
      "text/html": [
       "<pre style=\"white-space:pre;overflow-x:auto;line-height:normal;font-family:Menlo,'DejaVu Sans Mono',consolas,'Courier New',monospace\"><span style=\"color: #808000; text-decoration-color: #808000; font-weight: bold\">DeprecationWarning: Kernel._parent_header is deprecated in ipykernel 6. Use .get_parent()</span> \n",
       "<span style=\"color: #000000; text-decoration-color: #000000; font-weight: bold\">(raised from /home/sami/.pyenv/versions/3.9.10/lib/python3.9/site-packages/ipywidgets/widgets</span>\n",
       "<span style=\"color: #000000; text-decoration-color: #000000; font-weight: bold\">/widget_output.py:111)</span>\n",
       "</pre>\n"
      ],
      "text/plain": [
       "\u001b[1;33mDeprecationWarning: Kernel._parent_header is deprecated in ipykernel 6. Use .get_parent()\u001b[0m \n",
       "\u001b[1;30m(raised from /home/sami/.pyenv/versions/3.9.10/lib/python3.9/site-packages/ipywidgets/widgets\u001b[0m\n",
       "\u001b[1;30m/widget_output.py:111)\u001b[0m\n"
      ]
     },
     "metadata": {},
     "output_type": "display_data"
    },
    {
     "data": {
      "text/html": [
       "<pre style=\"white-space:pre;overflow-x:auto;line-height:normal;font-family:Menlo,'DejaVu Sans Mono',consolas,'Courier New',monospace\"><span style=\"color: #808000; text-decoration-color: #808000; font-weight: bold\">DeprecationWarning: Kernel._parent_header is deprecated in ipykernel 6. Use .get_parent()</span> \n",
       "<span style=\"color: #000000; text-decoration-color: #000000; font-weight: bold\">(raised from /home/sami/.pyenv/versions/3.9.10/lib/python3.9/site-packages/ipywidgets/widgets</span>\n",
       "<span style=\"color: #000000; text-decoration-color: #000000; font-weight: bold\">/widget_output.py:112)</span>\n",
       "</pre>\n"
      ],
      "text/plain": [
       "\u001b[1;33mDeprecationWarning: Kernel._parent_header is deprecated in ipykernel 6. Use .get_parent()\u001b[0m \n",
       "\u001b[1;30m(raised from /home/sami/.pyenv/versions/3.9.10/lib/python3.9/site-packages/ipywidgets/widgets\u001b[0m\n",
       "\u001b[1;30m/widget_output.py:112)\u001b[0m\n"
      ]
     },
     "metadata": {},
     "output_type": "display_data"
    },
    {
     "data": {
      "text/html": [
       "<pre style=\"white-space:pre;overflow-x:auto;line-height:normal;font-family:Menlo,'DejaVu Sans Mono',consolas,'Courier New',monospace\"><span style=\"color: #808000; text-decoration-color: #808000; font-weight: bold\">DeprecationWarning: Kernel._parent_header is deprecated in ipykernel 6. Use .get_parent()</span> \n",
       "<span style=\"color: #000000; text-decoration-color: #000000; font-weight: bold\">(raised from /home/sami/.pyenv/versions/3.9.10/lib/python3.9/site-packages/ipywidgets/widgets</span>\n",
       "<span style=\"color: #000000; text-decoration-color: #000000; font-weight: bold\">/widget_output.py:111)</span>\n",
       "</pre>\n"
      ],
      "text/plain": [
       "\u001b[1;33mDeprecationWarning: Kernel._parent_header is deprecated in ipykernel 6. Use .get_parent()\u001b[0m \n",
       "\u001b[1;30m(raised from /home/sami/.pyenv/versions/3.9.10/lib/python3.9/site-packages/ipywidgets/widgets\u001b[0m\n",
       "\u001b[1;30m/widget_output.py:111)\u001b[0m\n"
      ]
     },
     "metadata": {},
     "output_type": "display_data"
    },
    {
     "data": {
      "text/html": [
       "<pre style=\"white-space:pre;overflow-x:auto;line-height:normal;font-family:Menlo,'DejaVu Sans Mono',consolas,'Courier New',monospace\"><span style=\"color: #808000; text-decoration-color: #808000; font-weight: bold\">DeprecationWarning: Kernel._parent_header is deprecated in ipykernel 6. Use .get_parent()</span> \n",
       "<span style=\"color: #000000; text-decoration-color: #000000; font-weight: bold\">(raised from /home/sami/.pyenv/versions/3.9.10/lib/python3.9/site-packages/ipywidgets/widgets</span>\n",
       "<span style=\"color: #000000; text-decoration-color: #000000; font-weight: bold\">/widget_output.py:112)</span>\n",
       "</pre>\n"
      ],
      "text/plain": [
       "\u001b[1;33mDeprecationWarning: Kernel._parent_header is deprecated in ipykernel 6. Use .get_parent()\u001b[0m \n",
       "\u001b[1;30m(raised from /home/sami/.pyenv/versions/3.9.10/lib/python3.9/site-packages/ipywidgets/widgets\u001b[0m\n",
       "\u001b[1;30m/widget_output.py:112)\u001b[0m\n"
      ]
     },
     "metadata": {},
     "output_type": "display_data"
    },
    {
     "data": {
      "text/html": [
       "<pre style=\"white-space:pre;overflow-x:auto;line-height:normal;font-family:Menlo,'DejaVu Sans Mono',consolas,'Courier New',monospace\"><span style=\"color: #00ff00; text-decoration-color: #00ff00\">──────────────────────────────── </span>🎉 Flow is ready to serve!<span style=\"color: #00ff00; text-decoration-color: #00ff00\"> ─────────────────────────────────</span>\n",
       "╭────────────── 🔗 <span style=\"font-weight: bold\">Endpoint</span> ───────────────╮\n",
       "│  ⛓     Protocol                    GRPC  │\n",
       "│  🏠       Local           <a href=\"grpc://0.0.0.0:55391\" target=\"_blank\"><span style=\"color: #00ff00; text-decoration-color: #00ff00; font-weight: bold\">0.0.0.0</span></a><a href=\"grpc://0.0.0.0:55391\" target=\"_blank\">:</a><a href=\"grpc://0.0.0.0:55391\" target=\"_blank\"><span style=\"color: #008080; text-decoration-color: #008080; font-weight: bold\">55391</span></a>  │\n",
       "│  🔒     Private      <a href=\"grpc://192.168.1.25:55391\" target=\"_blank\"><span style=\"color: #00ff00; text-decoration-color: #00ff00; font-weight: bold\">192.168.1.25</span></a><a href=\"grpc://192.168.1.25:55391\" target=\"_blank\">:</a><a href=\"grpc://192.168.1.25:55391\" target=\"_blank\"><span style=\"color: #008080; text-decoration-color: #008080; font-weight: bold\">55391</span></a>  │\n",
       "│  🌍      Public    <a href=\"grpc://92.184.110.212:55391\" target=\"_blank\"><span style=\"color: #00ff00; text-decoration-color: #00ff00; font-weight: bold\">92.184.110.212</span></a><a href=\"grpc://92.184.110.212:55391\" target=\"_blank\">:</a><a href=\"grpc://92.184.110.212:55391\" target=\"_blank\"><span style=\"color: #008080; text-decoration-color: #008080; font-weight: bold\">55391</span></a>  │\n",
       "╰──────────────────────────────────────────╯\n",
       "</pre>\n"
      ],
      "text/plain": [
       "\u001b[92m──────────────────────────────── \u001b[0m🎉 Flow is ready to serve!\u001b[92m ─────────────────────────────────\u001b[0m\n",
       "╭────────────── 🔗 \u001b[1mEndpoint\u001b[0m ───────────────╮\n",
       "│  ⛓     Protocol                    GRPC  │\n",
       "│  🏠       Local           \u001b]8;id=38428;grpc://0.0.0.0:55391\u001b\\\u001b[1;92m0.0.0.0\u001b[0m\u001b]8;;\u001b\\\u001b]8;id=38428;grpc://0.0.0.0:55391\u001b\\:\u001b]8;;\u001b\\\u001b]8;id=38428;grpc://0.0.0.0:55391\u001b\\\u001b[1;36m55391\u001b[0m\u001b]8;;\u001b\\  │\n",
       "│  🔒     Private      \u001b]8;id=520382;grpc://192.168.1.25:55391\u001b\\\u001b[1;92m192.168.1.25\u001b[0m\u001b]8;;\u001b\\\u001b]8;id=520382;grpc://192.168.1.25:55391\u001b\\:\u001b]8;;\u001b\\\u001b]8;id=520382;grpc://192.168.1.25:55391\u001b\\\u001b[1;36m55391\u001b[0m\u001b]8;;\u001b\\  │\n",
       "│  🌍      Public    \u001b]8;id=404104;grpc://92.184.110.212:55391\u001b\\\u001b[1;92m92.184.110.212\u001b[0m\u001b]8;;\u001b\\\u001b]8;id=404104;grpc://92.184.110.212:55391\u001b\\:\u001b]8;;\u001b\\\u001b]8;id=404104;grpc://92.184.110.212:55391\u001b\\\u001b[1;36m55391\u001b[0m\u001b]8;;\u001b\\  │\n",
       "╰──────────────────────────────────────────╯\n"
      ]
     },
     "metadata": {},
     "output_type": "display_data"
    },
    {
     "data": {
      "text/html": [
       "<pre style=\"white-space:pre;overflow-x:auto;line-height:normal;font-family:Menlo,'DejaVu Sans Mono',consolas,'Courier New',monospace\"></pre>\n"
      ],
      "text/plain": []
     },
     "metadata": {},
     "output_type": "display_data"
    },
    {
     "data": {
      "text/html": [
       "<pre style=\"white-space:pre;overflow-x:auto;line-height:normal;font-family:Menlo,'DejaVu Sans Mono',consolas,'Courier New',monospace\">\n",
       "</pre>\n"
      ],
      "text/plain": [
       "\n"
      ]
     },
     "metadata": {},
     "output_type": "display_data"
    },
    {
     "data": {
      "text/html": [
       "<img src=\"https://mermaid.ink/svg/ICAgICAgICAgICAgJSV7aW5pdDp7ICAidGhlbWUiOiAiYmFzZSIsICAidGhlbWVWYXJpYWJsZXMiOiB7ICAgICAgInByaW1hcnlDb2xvciI6ICIjZmZmIiwgICAgICAicHJpbWFyeUJvcmRlckNvbG9yIjogIiNmZmYiLCAgICAgICJtYWluQmtnIjogIiMzMkM4Q0QiLCAgICAgICJjbHVzdGVyQmtnIjogIiNFRUVERTc4QyIsICAgICAgInNlY29uZGFyeUJvcmRlckNvbG9yIjogIm5vbmUiLCAgICAgICJ0ZXJ0aWFyeUJvcmRlckNvbG9yIjogIm5vbmUiLCAgICAgICJsaW5lQ29sb3IiOiAiI2E2ZDhkYSIgICAgICB9fX0lJSAgICAgICAgICAgIApmbG93Y2hhcnQgTFI7CnN1YmdyYXBoIGV4ZWN1dG9yMDsKCmRpcmVjdGlvbiBMUjsKCmV4ZWN1dG9yMC9yZXAtMFsiIk15RXhlYyIiXTo6OnBvZDsKZW5kOwpnYXRld2F5c3RhcnRbZ2F0ZXdheV06OjpHQVRFV0FZIC0tPiBleGVjdXRvcjA6OjpERVBMT1lNRU5UOwpleGVjdXRvcjA6OjpERVBMT1lNRU5UIC0tPiBnYXRld2F5ZW5kW2dhdGV3YXldOjo6R0FURVdBWTsKY2xhc3NEZWYgSU5TUEVDVCBzdHJva2U6I0YyOUM5RgpjbGFzc0RlZiBKT0lOX0lOU1BFQ1Qgc3Ryb2tlOiNGMjlDOUYKY2xhc3NEZWYgR0FURVdBWSBmaWxsOm5vbmUsY29sb3I6IzAwMCxzdHJva2U6bm9uZQpjbGFzc0RlZiBJTlNQRUNUX0FVWF9QQVNTIHN0cm9rZS1kYXNoYXJyYXk6IDIgMgpjbGFzc0RlZiBIRUFEVEFJTCBmaWxsOiMzMkM4Q0QxRAoKY2xhc3NEZWYgRVhURVJOQUwgZmlsbDojZmZmLHN0cm9rZTojMzJDOENE\"/>"
      ],
      "text/plain": [
       "<IPython.core.display.Image object>"
      ]
     },
     "metadata": {},
     "output_type": "display_data"
    }
   ],
   "source": [
    "f.start()"
   ]
  },
  {
   "cell_type": "code",
   "execution_count": 14,
   "id": "de76069f-4ebf-4e79-ba4d-3e9fb53df713",
   "metadata": {},
   "outputs": [
    {
     "data": {
      "text/html": [
       "<pre style=\"white-space:pre;overflow-x:auto;line-height:normal;font-family:Menlo,'DejaVu Sans Mono',consolas,'Courier New',monospace\">\n",
       "</pre>\n"
      ],
      "text/plain": [
       "\n"
      ]
     },
     "metadata": {},
     "output_type": "display_data"
    },
    {
     "name": "stdout",
     "output_type": "stream",
     "text": [
      "CPU times: user 8.87 ms, sys: 4.44 ms, total: 13.3 ms\n",
      "Wall time: 25.9 ms\n"
     ]
    },
    {
     "data": {
      "text/html": [
       "<pre style=\"white-space:pre;overflow-x:auto;line-height:normal;font-family:Menlo,'DejaVu Sans Mono',consolas,'Courier New',monospace\">╭────────────────────── Documents Summary ──────────────────────╮\n",
       "│                                                               │\n",
       "│   Length                 <span style=\"color: #008080; text-decoration-color: #008080; font-weight: bold\">10</span>                                   │\n",
       "│   Homogenous Documents   <span style=\"color: #00ff00; text-decoration-color: #00ff00; font-style: italic\">True</span>                                 │\n",
       "│   Common Attributes      <span style=\"font-weight: bold\">(</span><span style=\"color: #008000; text-decoration-color: #008000\">'id'</span>, <span style=\"color: #008000; text-decoration-color: #008000\">'blob'</span>, <span style=\"color: #008000; text-decoration-color: #008000\">'mime_type'</span>, <span style=\"color: #008000; text-decoration-color: #008000\">'uri'</span><span style=\"font-weight: bold\">)</span>   │\n",
       "│   Multimodal dataclass   <span style=\"color: #ff0000; text-decoration-color: #ff0000; font-style: italic\">False</span>                                │\n",
       "│                                                               │\n",
       "╰───────────────────────────────────────────────────────────────╯\n",
       "╭───────────────────── Attributes Summary ──────────────────────╮\n",
       "│                                                               │\n",
       "│  <span style=\"font-weight: bold\"> Attribute </span> <span style=\"font-weight: bold\"> Data type  </span> <span style=\"font-weight: bold\"> #Unique values </span> <span style=\"font-weight: bold\"> Has empty value </span>  │\n",
       "│  ───────────────────────────────────────────────────────────  │\n",
       "│   blob        <span style=\"font-weight: bold\">(</span><span style=\"color: #008000; text-decoration-color: #008000\">'bytes'</span>,<span style=\"font-weight: bold\">)</span>   <span style=\"color: #008080; text-decoration-color: #008080; font-weight: bold\">1</span>                <span style=\"color: #ff0000; text-decoration-color: #ff0000; font-style: italic\">False</span>             │\n",
       "│   id          <span style=\"font-weight: bold\">(</span><span style=\"color: #008000; text-decoration-color: #008000\">'str'</span>,<span style=\"font-weight: bold\">)</span>     <span style=\"color: #008080; text-decoration-color: #008080; font-weight: bold\">10</span>               <span style=\"color: #ff0000; text-decoration-color: #ff0000; font-style: italic\">False</span>             │\n",
       "│   mime_type   <span style=\"font-weight: bold\">(</span><span style=\"color: #008000; text-decoration-color: #008000\">'str'</span>,<span style=\"font-weight: bold\">)</span>     <span style=\"color: #008080; text-decoration-color: #008080; font-weight: bold\">1</span>                <span style=\"color: #ff0000; text-decoration-color: #ff0000; font-style: italic\">False</span>             │\n",
       "│   uri         <span style=\"font-weight: bold\">(</span><span style=\"color: #008000; text-decoration-color: #008000\">'str'</span>,<span style=\"font-weight: bold\">)</span>     <span style=\"color: #008080; text-decoration-color: #008080; font-weight: bold\">1</span>                <span style=\"color: #ff0000; text-decoration-color: #ff0000; font-style: italic\">False</span>             │\n",
       "│                                                               │\n",
       "╰───────────────────────────────────────────────────────────────╯\n",
       "</pre>\n"
      ],
      "text/plain": [
       "╭────────────────────── Documents Summary ──────────────────────╮\n",
       "│                                                               │\n",
       "│   Length                 \u001b[1;36m10\u001b[0m                                   │\n",
       "│   Homogenous Documents   \u001b[3;92mTrue\u001b[0m                                 │\n",
       "│   Common Attributes      \u001b[1m(\u001b[0m\u001b[32m'id'\u001b[0m, \u001b[32m'blob'\u001b[0m, \u001b[32m'mime_type'\u001b[0m, \u001b[32m'uri'\u001b[0m\u001b[1m)\u001b[0m   │\n",
       "│   Multimodal dataclass   \u001b[3;91mFalse\u001b[0m                                │\n",
       "│                                                               │\n",
       "╰───────────────────────────────────────────────────────────────╯\n",
       "╭───────────────────── Attributes Summary ──────────────────────╮\n",
       "│                                                               │\n",
       "│  \u001b[1m \u001b[0m\u001b[1mAttribute\u001b[0m\u001b[1m \u001b[0m \u001b[1m \u001b[0m\u001b[1mData type \u001b[0m\u001b[1m \u001b[0m \u001b[1m \u001b[0m\u001b[1m#Unique values\u001b[0m\u001b[1m \u001b[0m \u001b[1m \u001b[0m\u001b[1mHas empty value\u001b[0m\u001b[1m \u001b[0m  │\n",
       "│  ───────────────────────────────────────────────────────────  │\n",
       "│   blob        \u001b[1m(\u001b[0m\u001b[32m'bytes'\u001b[0m,\u001b[1m)\u001b[0m   \u001b[1;36m1\u001b[0m                \u001b[3;91mFalse\u001b[0m             │\n",
       "│   id          \u001b[1m(\u001b[0m\u001b[32m'str'\u001b[0m,\u001b[1m)\u001b[0m     \u001b[1;36m10\u001b[0m               \u001b[3;91mFalse\u001b[0m             │\n",
       "│   mime_type   \u001b[1m(\u001b[0m\u001b[32m'str'\u001b[0m,\u001b[1m)\u001b[0m     \u001b[1;36m1\u001b[0m                \u001b[3;91mFalse\u001b[0m             │\n",
       "│   uri         \u001b[1m(\u001b[0m\u001b[32m'str'\u001b[0m,\u001b[1m)\u001b[0m     \u001b[1;36m1\u001b[0m                \u001b[3;91mFalse\u001b[0m             │\n",
       "│                                                               │\n",
       "╰───────────────────────────────────────────────────────────────╯\n"
      ]
     },
     "metadata": {},
     "output_type": "display_data"
    }
   ],
   "source": [
    "%%time\n",
    "f.index(inputs=da)"
   ]
  },
  {
   "cell_type": "code",
   "execution_count": 17,
   "id": "824aaee8-17dd-4a1f-81bc-c1b9db6df99f",
   "metadata": {},
   "outputs": [],
   "source": [
    "f.close()"
   ]
  },
  {
   "cell_type": "code",
   "execution_count": 18,
   "id": "b1c428f8-b725-42bf-b932-73f7c0a35375",
   "metadata": {},
   "outputs": [
    {
     "ename": "ImportError",
     "evalue": "cannot import name 'CASDoc' from 'clip_client' (/home/sami/.pyenv/versions/3.9.10/lib/python3.9/site-packages/clip_client/__init__.py)",
     "output_type": "error",
     "traceback": [
      "\u001b[0;31m---------------------------------------------------------------------------\u001b[0m",
      "\u001b[0;31mImportError\u001b[0m                               Traceback (most recent call last)",
      "Input \u001b[0;32mIn [18]\u001b[0m, in \u001b[0;36m<module>\u001b[0;34m\u001b[0m\n\u001b[0;32m----> 1\u001b[0m \u001b[38;5;28;01mfrom\u001b[39;00m \u001b[38;5;21;01mclip_client\u001b[39;00m \u001b[38;5;28;01mimport\u001b[39;00m Client, CASDoc\n",
      "\u001b[0;31mImportError\u001b[0m: cannot import name 'CASDoc' from 'clip_client' (/home/sami/.pyenv/versions/3.9.10/lib/python3.9/site-packages/clip_client/__init__.py)"
     ]
    }
   ],
   "source": [
    "from clip_client import Client, CASDoc\n",
    "from docarray import Document, DocumentArray\n",
    "\n",
    "doc = Document(CASDoc(image='CLIP.png', text='a diagram'))\n",
    "\n",
    "\n",
    "c = Client('grpc://demo-cas.jina.ai:51000')\n",
    "da = c.encode([doc])\n",
    "\n",
    "print(da[0].image.embedding)\n",
    "print(da[0].text.embedding)"
   ]
  }
 ],
 "metadata": {
  "kernelspec": {
   "display_name": "Python 3 (ipykernel)",
   "language": "python",
   "name": "python3"
  },
  "language_info": {
   "codemirror_mode": {
    "name": "ipython",
    "version": 3
   },
   "file_extension": ".py",
   "mimetype": "text/x-python",
   "name": "python",
   "nbconvert_exporter": "python",
   "pygments_lexer": "ipython3",
   "version": "3.9.10"
  }
 },
 "nbformat": 4,
 "nbformat_minor": 5
}
