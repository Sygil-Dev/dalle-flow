{
 "cells": [
  {
   "cell_type": "code",
   "execution_count": 1,
   "id": "0e4606cf-20cc-4c6c-b4c9-f8ed117e69b6",
   "metadata": {},
   "outputs": [],
   "source": [
    "from jina import Client"
   ]
  },
  {
   "cell_type": "code",
   "execution_count": 2,
   "id": "1a7ed125-44dd-4210-8a8a-582712df74f8",
   "metadata": {},
   "outputs": [],
   "source": [
    "from docarray import Document, DocumentArray\n",
    "from multiprocessing import Process, Queue\n",
    "import time\n",
    "import uuid"
   ]
  },
  {
   "cell_type": "code",
   "execution_count": 3,
   "id": "ee52248c-0649-4515-af23-6f800f528eb3",
   "metadata": {},
   "outputs": [],
   "source": [
    "client = Client(port=51005)"
   ]
  },
  {
   "cell_type": "code",
   "execution_count": 4,
   "id": "08130e53-1fbc-42b1-b7f4-bf03aac2a21c",
   "metadata": {},
   "outputs": [
    {
     "data": {
      "text/plain": [
       "True"
      ]
     },
     "execution_count": 4,
     "metadata": {},
     "output_type": "execute_result"
    }
   ],
   "source": [
    "client.dry_run()"
   ]
  },
  {
   "cell_type": "code",
   "execution_count": 5,
   "id": "66a5cf29-3942-4a78-b209-1fd38d811222",
   "metadata": {},
   "outputs": [],
   "source": [
    "def get_doc():\n",
    "    doc = Document(uri='https://raw.githubusercontent.com/fastai/fastai/master/nbs/images/puppy.jpg')\n",
    "    return doc.load_uri_to_blob()"
   ]
  },
  {
   "cell_type": "code",
   "execution_count": 6,
   "id": "c74945a5-c137-4121-89e4-916cd8747040",
   "metadata": {},
   "outputs": [],
   "source": [
    "da = DocumentArray([get_doc() for _ in range(10)])"
   ]
  },
  {
   "cell_type": "code",
   "execution_count": 7,
   "id": "d67ed0f9-4efe-4ee8-a9c7-771f677adfd0",
   "metadata": {},
   "outputs": [
    {
     "name": "stdout",
     "output_type": "stream",
     "text": [
      "CPU times: user 1.81 ms, sys: 1.35 ms, total: 3.16 ms\n",
      "Wall time: 2.59 ms\n"
     ]
    },
    {
     "data": {
      "text/html": [
       "<pre style=\"white-space:pre;overflow-x:auto;line-height:normal;font-family:Menlo,'DejaVu Sans Mono',consolas,'Courier New',monospace\">╭────────────────────── Documents Summary ──────────────────────╮\n",
       "│                                                               │\n",
       "│   Length                 <span style=\"color: #008080; text-decoration-color: #008080; font-weight: bold\">10</span>                                   │\n",
       "│   Homogenous Documents   <span style=\"color: #00ff00; text-decoration-color: #00ff00; font-style: italic\">True</span>                                 │\n",
       "│   Common Attributes      <span style=\"font-weight: bold\">(</span><span style=\"color: #008000; text-decoration-color: #008000\">'id'</span>, <span style=\"color: #008000; text-decoration-color: #008000\">'blob'</span>, <span style=\"color: #008000; text-decoration-color: #008000\">'mime_type'</span>, <span style=\"color: #008000; text-decoration-color: #008000\">'uri'</span><span style=\"font-weight: bold\">)</span>   │\n",
       "│   Multimodal dataclass   <span style=\"color: #ff0000; text-decoration-color: #ff0000; font-style: italic\">False</span>                                │\n",
       "│                                                               │\n",
       "╰───────────────────────────────────────────────────────────────╯\n",
       "╭───────────────────── Attributes Summary ──────────────────────╮\n",
       "│                                                               │\n",
       "│  <span style=\"font-weight: bold\"> Attribute </span> <span style=\"font-weight: bold\"> Data type  </span> <span style=\"font-weight: bold\"> #Unique values </span> <span style=\"font-weight: bold\"> Has empty value </span>  │\n",
       "│  ───────────────────────────────────────────────────────────  │\n",
       "│   blob        <span style=\"font-weight: bold\">(</span><span style=\"color: #008000; text-decoration-color: #008000\">'bytes'</span>,<span style=\"font-weight: bold\">)</span>   <span style=\"color: #008080; text-decoration-color: #008080; font-weight: bold\">1</span>                <span style=\"color: #ff0000; text-decoration-color: #ff0000; font-style: italic\">False</span>             │\n",
       "│   id          <span style=\"font-weight: bold\">(</span><span style=\"color: #008000; text-decoration-color: #008000\">'str'</span>,<span style=\"font-weight: bold\">)</span>     <span style=\"color: #008080; text-decoration-color: #008080; font-weight: bold\">10</span>               <span style=\"color: #ff0000; text-decoration-color: #ff0000; font-style: italic\">False</span>             │\n",
       "│   mime_type   <span style=\"font-weight: bold\">(</span><span style=\"color: #008000; text-decoration-color: #008000\">'str'</span>,<span style=\"font-weight: bold\">)</span>     <span style=\"color: #008080; text-decoration-color: #008080; font-weight: bold\">1</span>                <span style=\"color: #ff0000; text-decoration-color: #ff0000; font-style: italic\">False</span>             │\n",
       "│   uri         <span style=\"font-weight: bold\">(</span><span style=\"color: #008000; text-decoration-color: #008000\">'str'</span>,<span style=\"font-weight: bold\">)</span>     <span style=\"color: #008080; text-decoration-color: #008080; font-weight: bold\">1</span>                <span style=\"color: #ff0000; text-decoration-color: #ff0000; font-style: italic\">False</span>             │\n",
       "│                                                               │\n",
       "╰───────────────────────────────────────────────────────────────╯\n",
       "</pre>\n"
      ],
      "text/plain": [
       "╭────────────────────── Documents Summary ──────────────────────╮\n",
       "│                                                               │\n",
       "│   Length                 \u001b[1;36m10\u001b[0m                                   │\n",
       "│   Homogenous Documents   \u001b[3;92mTrue\u001b[0m                                 │\n",
       "│   Common Attributes      \u001b[1m(\u001b[0m\u001b[32m'id'\u001b[0m, \u001b[32m'blob'\u001b[0m, \u001b[32m'mime_type'\u001b[0m, \u001b[32m'uri'\u001b[0m\u001b[1m)\u001b[0m   │\n",
       "│   Multimodal dataclass   \u001b[3;91mFalse\u001b[0m                                │\n",
       "│                                                               │\n",
       "╰───────────────────────────────────────────────────────────────╯\n",
       "╭───────────────────── Attributes Summary ──────────────────────╮\n",
       "│                                                               │\n",
       "│  \u001b[1m \u001b[0m\u001b[1mAttribute\u001b[0m\u001b[1m \u001b[0m \u001b[1m \u001b[0m\u001b[1mData type \u001b[0m\u001b[1m \u001b[0m \u001b[1m \u001b[0m\u001b[1m#Unique values\u001b[0m\u001b[1m \u001b[0m \u001b[1m \u001b[0m\u001b[1mHas empty value\u001b[0m\u001b[1m \u001b[0m  │\n",
       "│  ───────────────────────────────────────────────────────────  │\n",
       "│   blob        \u001b[1m(\u001b[0m\u001b[32m'bytes'\u001b[0m,\u001b[1m)\u001b[0m   \u001b[1;36m1\u001b[0m                \u001b[3;91mFalse\u001b[0m             │\n",
       "│   id          \u001b[1m(\u001b[0m\u001b[32m'str'\u001b[0m,\u001b[1m)\u001b[0m     \u001b[1;36m10\u001b[0m               \u001b[3;91mFalse\u001b[0m             │\n",
       "│   mime_type   \u001b[1m(\u001b[0m\u001b[32m'str'\u001b[0m,\u001b[1m)\u001b[0m     \u001b[1;36m1\u001b[0m                \u001b[3;91mFalse\u001b[0m             │\n",
       "│   uri         \u001b[1m(\u001b[0m\u001b[32m'str'\u001b[0m,\u001b[1m)\u001b[0m     \u001b[1;36m1\u001b[0m                \u001b[3;91mFalse\u001b[0m             │\n",
       "│                                                               │\n",
       "╰───────────────────────────────────────────────────────────────╯\n"
      ]
     },
     "metadata": {},
     "output_type": "display_data"
    }
   ],
   "source": [
    "%%time\n",
    "DocumentArray.from_protobuf(da.to_protobuf())"
   ]
  },
  {
   "cell_type": "code",
   "execution_count": 8,
   "id": "00f8cc07-fbcb-4cdb-930a-8978ea88179d",
   "metadata": {},
   "outputs": [
    {
     "data": {
      "text/html": [
       "<pre style=\"white-space:pre;overflow-x:auto;line-height:normal;font-family:Menlo,'DejaVu Sans Mono',consolas,'Courier New',monospace\">\n",
       "</pre>\n"
      ],
      "text/plain": [
       "\n"
      ]
     },
     "metadata": {},
     "output_type": "display_data"
    },
    {
     "name": "stdout",
     "output_type": "stream",
     "text": [
      "CPU times: user 69.8 ms, sys: 37 ms, total: 107 ms\n",
      "Wall time: 10.6 s\n"
     ]
    },
    {
     "data": {
      "text/html": [
       "<pre style=\"white-space:pre;overflow-x:auto;line-height:normal;font-family:Menlo,'DejaVu Sans Mono',consolas,'Courier New',monospace\">╭────────────────────── Documents Summary ──────────────────────╮\n",
       "│                                                               │\n",
       "│   Length                 <span style=\"color: #008080; text-decoration-color: #008080; font-weight: bold\">10</span>                                   │\n",
       "│   Homogenous Documents   <span style=\"color: #00ff00; text-decoration-color: #00ff00; font-style: italic\">True</span>                                 │\n",
       "│   Common Attributes      <span style=\"font-weight: bold\">(</span><span style=\"color: #008000; text-decoration-color: #008000\">'id'</span>, <span style=\"color: #008000; text-decoration-color: #008000\">'blob'</span>, <span style=\"color: #008000; text-decoration-color: #008000\">'mime_type'</span>, <span style=\"color: #008000; text-decoration-color: #008000\">'uri'</span><span style=\"font-weight: bold\">)</span>   │\n",
       "│   Multimodal dataclass   <span style=\"color: #ff0000; text-decoration-color: #ff0000; font-style: italic\">False</span>                                │\n",
       "│                                                               │\n",
       "╰───────────────────────────────────────────────────────────────╯\n",
       "╭───────────────────── Attributes Summary ──────────────────────╮\n",
       "│                                                               │\n",
       "│  <span style=\"font-weight: bold\"> Attribute </span> <span style=\"font-weight: bold\"> Data type  </span> <span style=\"font-weight: bold\"> #Unique values </span> <span style=\"font-weight: bold\"> Has empty value </span>  │\n",
       "│  ───────────────────────────────────────────────────────────  │\n",
       "│   blob        <span style=\"font-weight: bold\">(</span><span style=\"color: #008000; text-decoration-color: #008000\">'bytes'</span>,<span style=\"font-weight: bold\">)</span>   <span style=\"color: #008080; text-decoration-color: #008080; font-weight: bold\">1</span>                <span style=\"color: #ff0000; text-decoration-color: #ff0000; font-style: italic\">False</span>             │\n",
       "│   id          <span style=\"font-weight: bold\">(</span><span style=\"color: #008000; text-decoration-color: #008000\">'str'</span>,<span style=\"font-weight: bold\">)</span>     <span style=\"color: #008080; text-decoration-color: #008080; font-weight: bold\">10</span>               <span style=\"color: #ff0000; text-decoration-color: #ff0000; font-style: italic\">False</span>             │\n",
       "│   mime_type   <span style=\"font-weight: bold\">(</span><span style=\"color: #008000; text-decoration-color: #008000\">'str'</span>,<span style=\"font-weight: bold\">)</span>     <span style=\"color: #008080; text-decoration-color: #008080; font-weight: bold\">1</span>                <span style=\"color: #ff0000; text-decoration-color: #ff0000; font-style: italic\">False</span>             │\n",
       "│   uri         <span style=\"font-weight: bold\">(</span><span style=\"color: #008000; text-decoration-color: #008000\">'str'</span>,<span style=\"font-weight: bold\">)</span>     <span style=\"color: #008080; text-decoration-color: #008080; font-weight: bold\">1</span>                <span style=\"color: #ff0000; text-decoration-color: #ff0000; font-style: italic\">False</span>             │\n",
       "│                                                               │\n",
       "╰───────────────────────────────────────────────────────────────╯\n",
       "</pre>\n"
      ],
      "text/plain": [
       "╭────────────────────── Documents Summary ──────────────────────╮\n",
       "│                                                               │\n",
       "│   Length                 \u001b[1;36m10\u001b[0m                                   │\n",
       "│   Homogenous Documents   \u001b[3;92mTrue\u001b[0m                                 │\n",
       "│   Common Attributes      \u001b[1m(\u001b[0m\u001b[32m'id'\u001b[0m, \u001b[32m'blob'\u001b[0m, \u001b[32m'mime_type'\u001b[0m, \u001b[32m'uri'\u001b[0m\u001b[1m)\u001b[0m   │\n",
       "│   Multimodal dataclass   \u001b[3;91mFalse\u001b[0m                                │\n",
       "│                                                               │\n",
       "╰───────────────────────────────────────────────────────────────╯\n",
       "╭───────────────────── Attributes Summary ──────────────────────╮\n",
       "│                                                               │\n",
       "│  \u001b[1m \u001b[0m\u001b[1mAttribute\u001b[0m\u001b[1m \u001b[0m \u001b[1m \u001b[0m\u001b[1mData type \u001b[0m\u001b[1m \u001b[0m \u001b[1m \u001b[0m\u001b[1m#Unique values\u001b[0m\u001b[1m \u001b[0m \u001b[1m \u001b[0m\u001b[1mHas empty value\u001b[0m\u001b[1m \u001b[0m  │\n",
       "│  ───────────────────────────────────────────────────────────  │\n",
       "│   blob        \u001b[1m(\u001b[0m\u001b[32m'bytes'\u001b[0m,\u001b[1m)\u001b[0m   \u001b[1;36m1\u001b[0m                \u001b[3;91mFalse\u001b[0m             │\n",
       "│   id          \u001b[1m(\u001b[0m\u001b[32m'str'\u001b[0m,\u001b[1m)\u001b[0m     \u001b[1;36m10\u001b[0m               \u001b[3;91mFalse\u001b[0m             │\n",
       "│   mime_type   \u001b[1m(\u001b[0m\u001b[32m'str'\u001b[0m,\u001b[1m)\u001b[0m     \u001b[1;36m1\u001b[0m                \u001b[3;91mFalse\u001b[0m             │\n",
       "│   uri         \u001b[1m(\u001b[0m\u001b[32m'str'\u001b[0m,\u001b[1m)\u001b[0m     \u001b[1;36m1\u001b[0m                \u001b[3;91mFalse\u001b[0m             │\n",
       "│                                                               │\n",
       "╰───────────────────────────────────────────────────────────────╯\n"
      ]
     },
     "metadata": {},
     "output_type": "display_data"
    }
   ],
   "source": [
    "%%time\n",
    "client.index(inputs=[get_doc() for _ in range(10)])"
   ]
  },
  {
   "cell_type": "code",
   "execution_count": 9,
   "id": "db9e489b-0504-4b45-a974-6657a522f1ef",
   "metadata": {},
   "outputs": [],
   "source": [
    "da = DocumentArray([get_doc() for _ in range(10)])"
   ]
  },
  {
   "cell_type": "code",
   "execution_count": 10,
   "id": "e7fe9a85-6c76-4e20-9155-24cfd81fd36e",
   "metadata": {},
   "outputs": [],
   "source": [
    "def post_request(queue):\n",
    "    \"\"\"Full dalle flow run\"\"\"\n",
    "    id_ = str(uuid.uuid1())\n",
    "    init_time= time.time()\n",
    "    \n",
    "    print(f'hello {id_} \\n')\n",
    "    \n",
    "    client = Client(port=51005)    \n",
    "    client.index(inputs=da)    \n",
    "    \n",
    "    print(f'byebye {id_} \\n time spent: {time.time()-init_time} \\n queue size: {q.qsize()}')\n",
    "    print(time.time()-init_time)\n",
    "    q.put(id_)"
   ]
  },
  {
   "cell_type": "code",
   "execution_count": 15,
   "id": "a833003a-9ac4-4581-9ede-2c9a2db73b1f",
   "metadata": {},
   "outputs": [
    {
     "name": "stdout",
     "output_type": "stream",
     "text": [
      "hello 3360fc18-12fb-11ed-8565-63455291752f \n",
      "\n",
      "hello 336157d0-12fb-11ed-8565-63455291752f \n",
      "\n",
      "hello 3361d75a-12fb-11ed-8565-63455291752f \n",
      "\n",
      "hello 3362a0ea-12fb-11ed-8565-63455291752f \n",
      "\n",
      "hello 336318ea-12fb-11ed-8565-63455291752f \n",
      "hello 3363ca6a-12fb-11ed-8565-63455291752f \n",
      "\n",
      "hello 33649a3a-12fb-11ed-8565-63455291752f \n",
      "hello 33650d76-12fb-11ed-8565-63455291752f \n",
      "\n",
      "\n",
      "hello 33659f52-12fb-11ed-8565-63455291752f \n",
      "\n",
      "hello 33664948-12fb-11ed-8565-63455291752f \n",
      "\n",
      "hello 3366d156-12fb-11ed-8565-63455291752f \n",
      "\n",
      "hello 336775a2-12fb-11ed-8565-63455291752f \n",
      "\n",
      "hello 33681ae8-12fb-11ed-8565-63455291752f \n",
      "\n",
      "\n",
      "hello 3368b0de-12fb-11ed-8565-63455291752f \n",
      "\n",
      "hello 33695e80-12fb-11ed-8565-63455291752f \n",
      "hello 336a0aec-12fb-11ed-8565-63455291752f \n",
      "\n",
      "\n",
      "hello 336a9642-12fb-11ed-8565-63455291752f \n",
      "\n",
      "hello 336b19fa-12fb-11ed-8565-63455291752f \n",
      "\n"
     ]
    },
    {
     "data": {
      "text/html": [
       "<pre style=\"white-space:pre;overflow-x:auto;line-height:normal;font-family:Menlo,'DejaVu Sans Mono',consolas,'Courier New',monospace\">\n",
       "</pre>\n"
      ],
      "text/plain": [
       "\n"
      ]
     },
     "metadata": {},
     "output_type": "display_data"
    },
    {
     "name": "stdout",
     "output_type": "stream",
     "text": [
      "byebye 3360fc18-12fb-11ed-8565-63455291752f \n",
      " time spent: 21.05617046356201 \n",
      " queue size: 0\n",
      "21.056951999664307\n"
     ]
    },
    {
     "data": {
      "text/html": [
       "<pre style=\"white-space:pre;overflow-x:auto;line-height:normal;font-family:Menlo,'DejaVu Sans Mono',consolas,'Courier New',monospace\">\n",
       "</pre>\n"
      ],
      "text/plain": [
       "\n"
      ]
     },
     "metadata": {},
     "output_type": "display_data"
    },
    {
     "name": "stdout",
     "output_type": "stream",
     "text": [
      "byebye 336157d0-12fb-11ed-8565-63455291752f \n",
      " time spent: 41.97665977478027 \n",
      " queue size: 1\n",
      "41.97988176345825\n"
     ]
    },
    {
     "data": {
      "text/html": [
       "<pre style=\"white-space:pre;overflow-x:auto;line-height:normal;font-family:Menlo,'DejaVu Sans Mono',consolas,'Courier New',monospace\">\n",
       "</pre>\n"
      ],
      "text/plain": [
       "\n"
      ]
     },
     "metadata": {},
     "output_type": "display_data"
    },
    {
     "data": {
      "text/html": [
       "<pre style=\"white-space:pre;overflow-x:auto;line-height:normal;font-family:Menlo,'DejaVu Sans Mono',consolas,'Courier New',monospace\"><span style=\"color: #800000; text-decoration-color: #800000; font-weight: bold\">ERROR </span> <span style=\"color: #7f7f7f; text-decoration-color: #7f7f7f\">GRPCClient@</span><span style=\"color: #7fbfbf; text-decoration-color: #7fbfbf; font-weight: bold\">64114</span> gRPC error: StatusCode.UNAVAILABLE Socket closed  <span style=\"color: #7f7f7f; text-decoration-color: #7f7f7f\">[08/03/22 09:15:39]</span>\n",
       "       The ongoing request is terminated as the server is not available   <span style=\"color: #7f7f7f; text-decoration-color: #7f7f7f\">                   </span>\n",
       "       or closed already.                                                 <span style=\"color: #7f7f7f; text-decoration-color: #7f7f7f\">                   </span>\n",
       "</pre>\n"
      ],
      "text/plain": [
       "\u001b[1;31mERROR \u001b[0m \u001b[2mGRPCClient@\u001b[0m\u001b[1;2;36m64114\u001b[0m gRPC error: StatusCode.UNAVAILABLE Socket closed  \u001b[2m[08/03/22 09:15:39]\u001b[0m\n",
       "       The ongoing request is terminated as the server is not available   \u001b[2m                   \u001b[0m\n",
       "       or closed already.                                                 \u001b[2m                   \u001b[0m\n"
      ]
     },
     "metadata": {},
     "output_type": "display_data"
    },
    {
     "name": "stderr",
     "output_type": "stream",
     "text": [
      "Process Process-18:\n",
      "Traceback (most recent call last):\n",
      "  File \"/home/sami/.pyenv/versions/3.9.10/lib/python3.9/multiprocessing/process.py\", line 315, in _bootstrap\n",
      "    self.run()\n",
      "  File \"/home/sami/.pyenv/versions/3.9.10/lib/python3.9/multiprocessing/process.py\", line 108, in run\n",
      "    self._target(*self._args, **self._kwargs)\n",
      "  File \"/tmp/ipykernel_62644/1901514774.py\", line 9, in post_request\n",
      "    client.index(inputs=da)\n",
      "  File \"/home/sami/.pyenv/versions/3.9.10/lib/python3.9/site-packages/jina/clients/mixin.py\", line 185, in post\n",
      "    return run_async(\n",
      "  File \"/home/sami/.pyenv/versions/3.9.10/lib/python3.9/site-packages/jina/helper.py\", line 1323, in run_async\n",
      "    return asyncio.run(func(*args, **kwargs))\n",
      "  File \"/home/sami/.pyenv/versions/3.9.10/lib/python3.9/asyncio/runners.py\", line 44, in run\n",
      "    return loop.run_until_complete(main)\n",
      "  File \"/home/sami/.pyenv/versions/3.9.10/lib/python3.9/asyncio/base_events.py\", line 642, in run_until_complete\n",
      "    return future.result()\n",
      "  File \"/home/sami/.pyenv/versions/3.9.10/lib/python3.9/site-packages/jina/clients/mixin.py\", line 176, in _get_results\n",
      "    async for resp in c._get_results(*args, **kwargs):\n",
      "  File \"/home/sami/.pyenv/versions/3.9.10/lib/python3.9/site-packages/jina/clients/base/grpc.py\", line 115, in _get_results\n",
      "    raise ConnectionError(my_details) from None\n",
      "ConnectionError: Socket closed\n"
     ]
    },
    {
     "data": {
      "text/html": [
       "<pre style=\"white-space:pre;overflow-x:auto;line-height:normal;font-family:Menlo,'DejaVu Sans Mono',consolas,'Courier New',monospace\">\n",
       "</pre>\n"
      ],
      "text/plain": [
       "\n"
      ]
     },
     "metadata": {},
     "output_type": "display_data"
    },
    {
     "name": "stdout",
     "output_type": "stream",
     "text": [
      "byebye 3362a0ea-12fb-11ed-8565-63455291752f \n",
      " time spent: 484.8074824810028 \n",
      " queue size: 2\n",
      "484.80832147598267\n"
     ]
    },
    {
     "data": {
      "text/html": [
       "<pre style=\"white-space:pre;overflow-x:auto;line-height:normal;font-family:Menlo,'DejaVu Sans Mono',consolas,'Courier New',monospace\">\n",
       "</pre>\n"
      ],
      "text/plain": [
       "\n"
      ]
     },
     "metadata": {},
     "output_type": "display_data"
    },
    {
     "name": "stdout",
     "output_type": "stream",
     "text": [
      "byebye 3363ca6a-12fb-11ed-8565-63455291752f \n",
      " time spent: 486.5187849998474 \n",
      " queue size: 3\n",
      "486.5196464061737\n"
     ]
    },
    {
     "data": {
      "text/html": [
       "<pre style=\"white-space:pre;overflow-x:auto;line-height:normal;font-family:Menlo,'DejaVu Sans Mono',consolas,'Courier New',monospace\">\n",
       "</pre>\n"
      ],
      "text/plain": [
       "\n"
      ]
     },
     "metadata": {},
     "output_type": "display_data"
    },
    {
     "name": "stdout",
     "output_type": "stream",
     "text": [
      "byebye 33649a3a-12fb-11ed-8565-63455291752f \n",
      " time spent: 499.2010495662689 \n",
      " queue size: 4\n",
      "499.2022023200989\n"
     ]
    },
    {
     "data": {
      "text/html": [
       "<pre style=\"white-space:pre;overflow-x:auto;line-height:normal;font-family:Menlo,'DejaVu Sans Mono',consolas,'Courier New',monospace\">\n",
       "</pre>\n"
      ],
      "text/plain": [
       "\n"
      ]
     },
     "metadata": {},
     "output_type": "display_data"
    },
    {
     "name": "stdout",
     "output_type": "stream",
     "text": [
      "byebye 33659f52-12fb-11ed-8565-63455291752f \n",
      " time spent: 507.9997489452362 \n",
      " queue size: 5\n",
      "508.00095200538635\n"
     ]
    },
    {
     "data": {
      "text/html": [
       "<pre style=\"white-space:pre;overflow-x:auto;line-height:normal;font-family:Menlo,'DejaVu Sans Mono',consolas,'Courier New',monospace\">\n",
       "</pre>\n"
      ],
      "text/plain": [
       "\n"
      ]
     },
     "metadata": {},
     "output_type": "display_data"
    },
    {
     "name": "stdout",
     "output_type": "stream",
     "text": [
      "byebye 33650d76-12fb-11ed-8565-63455291752f \n",
      " time spent: 631.7257726192474 \n",
      " queue size: 6\n",
      "631.7265536785126\n"
     ]
    },
    {
     "data": {
      "text/html": [
       "<pre style=\"white-space:pre;overflow-x:auto;line-height:normal;font-family:Menlo,'DejaVu Sans Mono',consolas,'Courier New',monospace\">\n",
       "</pre>\n"
      ],
      "text/plain": [
       "\n"
      ]
     },
     "metadata": {},
     "output_type": "display_data"
    },
    {
     "name": "stdout",
     "output_type": "stream",
     "text": [
      "byebye 33664948-12fb-11ed-8565-63455291752f \n",
      " time spent: 841.7703115940094 \n",
      " queue size: 7\n",
      "841.7711229324341\n"
     ]
    },
    {
     "data": {
      "text/html": [
       "<pre style=\"white-space:pre;overflow-x:auto;line-height:normal;font-family:Menlo,'DejaVu Sans Mono',consolas,'Courier New',monospace\">\n",
       "</pre>\n"
      ],
      "text/plain": [
       "\n"
      ]
     },
     "metadata": {},
     "output_type": "display_data"
    },
    {
     "name": "stdout",
     "output_type": "stream",
     "text": [
      "byebye 336318ea-12fb-11ed-8565-63455291752f \n",
      " time spent: 990.4027910232544 \n",
      " queue size: 8\n",
      "990.4038171768188\n"
     ]
    },
    {
     "data": {
      "text/html": [
       "<pre style=\"white-space:pre;overflow-x:auto;line-height:normal;font-family:Menlo,'DejaVu Sans Mono',consolas,'Courier New',monospace\">\n",
       "</pre>\n"
      ],
      "text/plain": [
       "\n"
      ]
     },
     "metadata": {},
     "output_type": "display_data"
    },
    {
     "name": "stdout",
     "output_type": "stream",
     "text": [
      "byebye 3366d156-12fb-11ed-8565-63455291752f \n",
      " time spent: 993.1877312660217 \n",
      " queue size: 9\n",
      "993.1885902881622\n"
     ]
    },
    {
     "data": {
      "text/html": [
       "<pre style=\"white-space:pre;overflow-x:auto;line-height:normal;font-family:Menlo,'DejaVu Sans Mono',consolas,'Courier New',monospace\">\n",
       "</pre>\n"
      ],
      "text/plain": [
       "\n"
      ]
     },
     "metadata": {},
     "output_type": "display_data"
    },
    {
     "name": "stdout",
     "output_type": "stream",
     "text": [
      "byebye 3368b0de-12fb-11ed-8565-63455291752f \n",
      " time spent: 995.2287588119507 \n",
      " queue size: 10\n",
      "995.2296252250671\n"
     ]
    },
    {
     "data": {
      "text/html": [
       "<pre style=\"white-space:pre;overflow-x:auto;line-height:normal;font-family:Menlo,'DejaVu Sans Mono',consolas,'Courier New',monospace\">\n",
       "</pre>\n"
      ],
      "text/plain": [
       "\n"
      ]
     },
     "metadata": {},
     "output_type": "display_data"
    },
    {
     "name": "stdout",
     "output_type": "stream",
     "text": [
      "byebye 33681ae8-12fb-11ed-8565-63455291752f \n",
      " time spent: 998.9676184654236 \n",
      " queue size: 11\n",
      "998.9684412479401\n"
     ]
    },
    {
     "data": {
      "text/html": [
       "<pre style=\"white-space:pre;overflow-x:auto;line-height:normal;font-family:Menlo,'DejaVu Sans Mono',consolas,'Courier New',monospace\">\n",
       "</pre>\n"
      ],
      "text/plain": [
       "\n"
      ]
     },
     "metadata": {},
     "output_type": "display_data"
    },
    {
     "name": "stdout",
     "output_type": "stream",
     "text": [
      "byebye 336775a2-12fb-11ed-8565-63455291752f \n",
      " time spent: 1002.2208435535431 \n",
      " queue size: 12\n",
      "1002.2216777801514\n"
     ]
    },
    {
     "data": {
      "text/html": [
       "<pre style=\"white-space:pre;overflow-x:auto;line-height:normal;font-family:Menlo,'DejaVu Sans Mono',consolas,'Courier New',monospace\">\n",
       "</pre>\n"
      ],
      "text/plain": [
       "\n"
      ]
     },
     "metadata": {},
     "output_type": "display_data"
    },
    {
     "name": "stdout",
     "output_type": "stream",
     "text": [
      "byebye 33695e80-12fb-11ed-8565-63455291752f \n",
      " time spent: 1005.9855620861053 \n",
      " queue size: 13\n",
      "1005.9864490032196\n"
     ]
    },
    {
     "data": {
      "text/html": [
       "<pre style=\"white-space:pre;overflow-x:auto;line-height:normal;font-family:Menlo,'DejaVu Sans Mono',consolas,'Courier New',monospace\">\n",
       "</pre>\n"
      ],
      "text/plain": [
       "\n"
      ]
     },
     "metadata": {},
     "output_type": "display_data"
    },
    {
     "name": "stdout",
     "output_type": "stream",
     "text": [
      "byebye 336a0aec-12fb-11ed-8565-63455291752f \n",
      " time spent: 1009.0620384216309 \n",
      " queue size: 14\n",
      "1009.062956571579\n"
     ]
    },
    {
     "data": {
      "text/html": [
       "<pre style=\"white-space:pre;overflow-x:auto;line-height:normal;font-family:Menlo,'DejaVu Sans Mono',consolas,'Courier New',monospace\">\n",
       "</pre>\n"
      ],
      "text/plain": [
       "\n"
      ]
     },
     "metadata": {},
     "output_type": "display_data"
    },
    {
     "name": "stdout",
     "output_type": "stream",
     "text": [
      "byebye 336a9642-12fb-11ed-8565-63455291752f \n",
      " time spent: 1067.3257529735565 \n",
      " queue size: 15\n",
      "1067.3265850543976\n"
     ]
    },
    {
     "data": {
      "text/html": [
       "<pre style=\"white-space:pre;overflow-x:auto;line-height:normal;font-family:Menlo,'DejaVu Sans Mono',consolas,'Courier New',monospace\">\n",
       "</pre>\n"
      ],
      "text/plain": [
       "\n"
      ]
     },
     "metadata": {},
     "output_type": "display_data"
    },
    {
     "name": "stdout",
     "output_type": "stream",
     "text": [
      "byebye 336b19fa-12fb-11ed-8565-63455291752f \n",
      " time spent: 1068.3288254737854 \n",
      " queue size: 16\n",
      "1068.3298342227936\n",
      "1 failed\n"
     ]
    }
   ],
   "source": [
    "N = 18\n",
    "\n",
    "q = Queue()\n",
    "\n",
    "list_thread = [Process(target=post_request, args=(q,), daemon=True) for _ in range(N)]\n",
    "\n",
    "# + tags=[]\n",
    "# %%time\n",
    "for t in list_thread:\n",
    "    t.start()\n",
    "for t in list_thread:\n",
    "    t.join()\n",
    "# -\n",
    "\n",
    "print(f'{N - q.qsize() } failed')"
   ]
  },
  {
   "cell_type": "code",
   "execution_count": 12,
   "id": "f06be0d6-2418-489e-8fb7-b8e8690cdee6",
   "metadata": {},
   "outputs": [],
   "source": [
    "import numpy as np"
   ]
  },
  {
   "cell_type": "code",
   "execution_count": 13,
   "id": "d2f7051e-99ff-4fd4-a696-c6d3a28098ef",
   "metadata": {},
   "outputs": [],
   "source": [
    "matrix = np.random.rand(20_000, 4_000)"
   ]
  },
  {
   "cell_type": "code",
   "execution_count": 14,
   "id": "4746208d-d932-4f4d-a6cd-36289d00e0f4",
   "metadata": {},
   "outputs": [
    {
     "data": {
      "text/plain": [
       "610.3515625"
      ]
     },
     "execution_count": 14,
     "metadata": {},
     "output_type": "execute_result"
    }
   ],
   "source": [
    "matrix.nbytes/ 1024**2"
   ]
  },
  {
   "cell_type": "code",
   "execution_count": null,
   "id": "24a1402e-4c20-48ec-80fb-e6a3ccc5b3d0",
   "metadata": {},
   "outputs": [],
   "source": []
  }
 ],
 "metadata": {
  "kernelspec": {
   "display_name": "Python 3 (ipykernel)",
   "language": "python",
   "name": "python3"
  },
  "language_info": {
   "codemirror_mode": {
    "name": "ipython",
    "version": 3
   },
   "file_extension": ".py",
   "mimetype": "text/x-python",
   "name": "python",
   "nbconvert_exporter": "python",
   "pygments_lexer": "ipython3",
   "version": "3.9.10"
  }
 },
 "nbformat": 4,
 "nbformat_minor": 5
}
